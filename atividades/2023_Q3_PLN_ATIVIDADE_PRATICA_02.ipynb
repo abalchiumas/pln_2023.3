{
 "nbformat": 4,
 "nbformat_minor": 0,
 "metadata": {
  "colab": {
   "provenance": [],
   "collapsed_sections": [
    "D7hJlilKM485"
   ],
   "include_colab_link": true
  },
  "kernelspec": {
   "name": "python3",
   "language": "python",
   "display_name": "Python 3 (ipykernel)"
  }
 },
 "cells": [
  {
   "cell_type": "markdown",
   "metadata": {
    "id": "view-in-github",
    "colab_type": "text"
   },
   "source": [
    "<a href=\"https://colab.research.google.com/github/abalchiumas/pln_2023.3/blob/main/2023_Q3_PLN_ATIVIDADE_PRATICA_02.ipynb\" target=\"_parent\"><img src=\"https://colab.research.google.com/assets/colab-badge.svg\" alt=\"Open In Colab\"/></a>"
   ]
  },
  {
   "cell_type": "markdown",
   "metadata": {
    "id": "Y6QILOdpOjwv"
   },
   "source": [
    "# **Processamento de Linguagem Natural [2023.Q3]**\n",
    "Prof. Alexandre Donizeti Alves"
   ]
  },
  {
   "cell_type": "markdown",
   "metadata": {
    "id": "8m67OOx9MX_3"
   },
   "source": [
    "### **ATIVIDADE PRÁTICA 02 [Extração e Pré-processamento de Dados + Expressões Regulares]**\n"
   ]
  },
  {
   "cell_type": "markdown",
   "metadata": {
    "id": "5Gk0nHKabBT-"
   },
   "source": [
    "A **ATIVIDADE PRÁTICA 02** deve ser feita utilizando o **Google Colab** com uma conta\n",
    "sua vinculada ao Gmail. O link do seu notebook, armazenado no Google Drive, além do link de um repositório no GitHub e os principais resultados da atividade, devem ser enviados usando o seguinte formulário:\n",
    "\n",
    "> https://forms.gle/83JggUJ1mhgWviEaA\n",
    "\n",
    "\n",
    "**IMPORTANTE**: A submissão deve ser feita até o dia 16/10 (segunda-feira) APENAS POR UM INTEGRANTE DA EQUIPE, até às 23h59. Por favor, lembre-se de dar permissão de ACESSO IRRESTRITO para o professor da disciplina de PLN."
   ]
  },
  {
   "cell_type": "markdown",
   "metadata": {
    "id": "D7hJlilKM485"
   },
   "source": [
    "### **EQUIPE**\n",
    "\n",
    "---"
   ]
  },
  {
   "cell_type": "markdown",
   "source": [
    "**POR FAVOR, PREENCHER OS INTEGRANDES DA SUA EQUIPE:**\n",
    "\n",
    "\n",
    "**Integrante 01:**\n",
    "\n",
    "`André Barros Balchiumas | 11201920328`\n",
    "\n",
    "**Integrante 02:**\n",
    "\n",
    "`Guilherme Goncalves Braz | 11201920453`"
   ],
   "metadata": {
    "id": "tnIArN0QY-Ek"
   }
  },
  {
   "cell_type": "markdown",
   "source": [
    "### **LIVRO**\n",
    "---"
   ],
   "metadata": {
    "id": "6yExhaebs-nD"
   }
  },
  {
   "cell_type": "markdown",
   "source": [
    "`Processamento de Linguagem Natural - Conceitos, Técnicas e Aplicações em Português.`\n",
    "\n",
    ">\n",
    "\n",
    "Disponível gratuitamente em:\n",
    "  \n",
    "  > https://brasileiraspln.com/livro-pln/1a-edicao/.\n",
    "\n",
    "\n",
    "**POR FAVOR, PREENCHER OS CAPITULOS SELECIONADOS PARA A SUA EQUIPE:**\n",
    "\n",
    "`Primeiro capítulo: 6`\n",
    "\n",
    "`Segundo capítulo: 19`\n",
    "\n"
   ],
   "metadata": {
    "id": "DjJM_qhEZRy6"
   }
  },
  {
   "cell_type": "markdown",
   "metadata": {
    "id": "EtjgWQRzNphL"
   },
   "source": [
    "### **DESCRIÇÃO**\n",
    "---"
   ]
  },
  {
   "cell_type": "markdown",
   "source": [
    "Implementar um `notebook` no `Google Colab` para identificar ERROS em 2 (DOIS) capítulos do livro **Processamento de Linguagem Natural - Conceitos, Técnicas e Aplicações em Português**.\n",
    "\n",
    "Os capítulos devem ser selecionados na seguinte planilha:\n",
    "\n",
    "https://docs.google.com/spreadsheets/d/1ZutzQ3v1OJgsgzCvCwxXlRIQ3ChXNlHNvB63JQvYsbo/edit?usp=sharing\n",
    "\n",
    ">\n",
    "\n",
    "**IMPORTANTE:** É obrigatório usar o e-mail da UFABC.\n",
    "\n",
    ">\n",
    "\n",
    "\n",
    "**DICA:** Por favor, insira o seu nome ou da sua equipe na ordem definida na planilha. Por exemplo, se a linha correspondente ao o GRUPO 5 já foi preenchida, a próxima equipe (GRUPO 6) deverá ser informada na próxima linha da planilha.\n",
    "\n"
   ],
   "metadata": {
    "id": "fXTwkiiGs2BV"
   }
  },
  {
   "cell_type": "markdown",
   "source": [
    "### **TIPOS DE ERROS**\n",
    "---\n"
   ],
   "metadata": {
    "id": "eD_AJQhrwJQ6"
   }
  },
  {
   "cell_type": "markdown",
   "source": [
    "**IMPORTANTE**: consulta feita no ChatGPT\n",
    ">\n",
    "\n",
    "Um `programa Python` que utilize `expressões regulares` pode ajudar a identificar vários **tipos de erros** comuns em **livros**, especialmente erros de formatação e problemas relacionados à consistência do texto. Aqui estão alguns exemplos de erros comuns que podem ser identificados usando expressões regulares:\n",
    "\n",
    "* Erros de gramática e ortografia: erros de digitação, concordância verbal e nominal, uso incorreto de pontuação e outros erros gramaticais.\n",
    "\n",
    "* Problemas de formatação: você pode usar expressões regulares para encontrar erros de formatação, como espaços em excesso, tabulações inadequadas ou alinhamentos inconsistentes.\n",
    "\n",
    "* Abreviações e acrônimos: você pode usar expressões regulares para encontrar abreviações ou acrônimos que não foram definidos ou explicados anteriormente no texto.\n",
    "\n",
    "* Citações e referências: expressões regulares podem ser úteis para localizar citações ou referências que precisam de formatação especial.\n",
    "\n",
    "* OUTROS TIPOS DE ERROS: não considerem apenas os tipos de erros citados acima.\n",
    "\n",
    "\n",
    "**IMPORTANTE:** Lembre-se de que expressões regulares podem ser poderosas, mas também complexas. Dependendo da complexidade dos erros que você deseja identificar, pode ser necessário ajustar as expressões regulares de acordo com as características específicas do seu texto. Além disso, é importante ter em mente que as expressões regulares podem não ser a melhor ferramenta para todos os tipos de erros em livros, especialmente problemas mais contextuais ou semânticos, que podem exigir abordagens de PLN mais avançadas.\n",
    "\n",
    "\n",
    "\n"
   ],
   "metadata": {
    "id": "gz0DTI0KYmn6"
   }
  },
  {
   "cell_type": "markdown",
   "source": [
    "### **CRITÉRIOS DE AVALIAÇÃO**\n",
    "---\n"
   ],
   "metadata": {
    "id": "gWsBYQNtxmum"
   }
  },
  {
   "cell_type": "markdown",
   "source": [
    "A equipe que **realizar mais testes** e/ou **identificar mais erros** terá o peso diminuido na AVALIAÇÃO (Prova Escrita) em **25%** (caindo de 40 para 30). Os testes e possíveis erros devem ser contabizados de maneira separada.\n",
    "\n",
    ">\n",
    "\n",
    "Além disso, **por se tratar de um livro**, há um teste importante que deve ser feito. Lembre-se que o teste deve ser feito utilizando expressões regulares. A equipe que realizar esse teste, mesmo que o erro não ocorra nos capítulos selecionados, terá o peso diminuido na AVALIAÇÃO (Prova Escrita) em **25%** (caindo de 40 para 30).\n",
    "\n",
    "> A equipe pode considerar outros capítulos do livro para tentar identificar esse tipo de erro.\n",
    "\n",
    "**Se for a mesma equipe, o peso da avaliação será reduzido em 50% (caindo de 40 para 20)**.\n",
    "\n",
    ">\n",
    "\n",
    "**IMPORTANTE**: a diminuição no peso da AVALIAÇÃO será aplicado para todos os membros da equipe. Esse critério será aplicado apenas para uma equipe, considerando como critério de desempate a equipe que entregar primeiro a atividade no formulário.\n",
    "\n",
    "\n",
    "\n"
   ],
   "metadata": {
    "id": "5iHdx4BXYruQ"
   }
  },
  {
   "cell_type": "markdown",
   "source": [
    "### **IMPLEMENTAÇÃO**\n",
    "---"
   ],
   "metadata": {
    "id": "nw09lujGvfjc"
   }
  },
  {
   "cell_type": "code",
   "source": [
    "print('socorro')"
   ],
   "metadata": {
    "id": "RyUailD5vi9E",
    "ExecuteTime": {
     "end_time": "2023-10-12T20:21:18.289206389Z",
     "start_time": "2023-10-12T20:21:18.288649509Z"
    }
   },
   "execution_count": 1,
   "outputs": [
    {
     "name": "stdout",
     "output_type": "stream",
     "text": [
      "socorro\n"
     ]
    }
   ]
  },
  {
   "cell_type": "code",
   "execution_count": null,
   "outputs": [],
   "source": [
    "\n"
   ],
   "metadata": {
    "collapsed": false
   }
  }
 ]
}
